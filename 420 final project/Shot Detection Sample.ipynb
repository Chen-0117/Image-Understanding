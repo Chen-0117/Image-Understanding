{
  "nbformat": 4,
  "nbformat_minor": 0,
  "metadata": {
    "colab": {
      "provenance": []
    },
    "kernelspec": {
      "name": "python3",
      "display_name": "Python 3"
    },
    "language_info": {
      "name": "python"
    }
  },
  "cells": [
    {
      "cell_type": "code",
      "execution_count": 2,
      "metadata": {
        "id": "chzs_oTXKQl7"
      },
      "outputs": [],
      "source": [
        "import cv2\n",
        "from google.colab.patches import cv2_imshow\n",
        "import matplotlib.pyplot as plt\n",
        "import numpy as np"
      ]
    },
    {
      "cell_type": "code",
      "source": [
        "movie1 = cv2.VideoCapture(\"Movie_1_new.mp4\")\n",
        "movie2 = cv2.VideoCapture(\"Movie_2_new.mp4\")\n",
        "movie3 = cv2.VideoCapture(\"Movie_3_new.mp4\")"
      ],
      "metadata": {
        "id": "WEc29qt0M5R5"
      },
      "execution_count": 19,
      "outputs": []
    },
    {
      "cell_type": "code",
      "source": [
        "def shot_detector(video):\n",
        "  # Set the threshold for shot detection\n",
        "  threshold = 7\n",
        "  # Initialize variables\n",
        "  frame_count = 0\n",
        "  prev_frame = None\n",
        "  shots = []\n",
        "  dif = []\n",
        "  start = True\n",
        "  skip = True\n",
        "\n",
        "  while True:\n",
        "      # Read the next frame\n",
        "      ret, frame = video.read()\n",
        "      \n",
        "      # If there are no more frames, break out of the loop\n",
        "      if not ret:\n",
        "        if shots != []:\n",
        "          shots[-1][-1] = frame_count\n",
        "        break\n",
        "      \n",
        "      # Convert the frame to grayscale\n",
        "      gray_frame = cv2.cvtColor(frame, cv2.COLOR_BGR2GRAY)\n",
        "      \n",
        "      # If this is not the first frame, compare it to the previous frame\n",
        "      if prev_frame is not None:\n",
        "          \n",
        "        diff = cv2.absdiff(gray_frame, prev_frame)\n",
        "\n",
        "        if np.average(diff) > 0.2 or not skip:\n",
        "          if len(dif) > 0:\n",
        "            if np.average(diff) - dif[-1] > threshold:\n",
        "              shots[-1][-1]=frame_count - 1\n",
        "              shots.append([frame_count, frame_count])\n",
        "          dif.append(np.average(diff))\n",
        "          skip = True\n",
        "        elif skip:\n",
        "          shots[-1][-1] = frame_count\n",
        "          skip = False\n",
        "\n",
        "      else:\n",
        "        shots.append([frame_count, frame_count])\n",
        "        start = False\n",
        "      \n",
        "      # Update variables\n",
        "      frame_count += 1\n",
        "      prev_frame = gray_frame     \n",
        "\n",
        "  return shots\n",
        "\n",
        "def accu(output, truth):\n",
        "  out_put = []\n",
        "  truth_ = []\n",
        "  correct = 0\n",
        "  miss = 0\n",
        "  false = 0\n",
        "  for i in range(1, len(output)):\n",
        "    out_put.append(output[i][0])\n",
        "  for i in range(1, len(truth)):\n",
        "    truth_.append(truth[i][0])\n",
        "  for i in truth_:\n",
        "    if i in out_put:\n",
        "      correct += 1\n",
        "    else:\n",
        "      miss += 1\n",
        "  for i in out_put:\n",
        "    if i not in truth_:\n",
        "      false += 1\n",
        "  return correct, miss, false"
      ],
      "metadata": {
        "id": "_Tb6ulFNKTdQ"
      },
      "execution_count": 20,
      "outputs": []
    },
    {
      "cell_type": "code",
      "source": [
        "o1 = shot_detector(movie1)\n",
        "o2 = shot_detector(movie2)\n",
        "o3 = shot_detector(movie3)"
      ],
      "metadata": {
        "id": "wBFm_Sg9K3KH"
      },
      "execution_count": 21,
      "outputs": []
    },
    {
      "cell_type": "code",
      "source": [
        "print(\"Video1_output: \\n\", o1)\n",
        "print(\"Video2_output: \\n\", o2)\n",
        "print(\"Video2_output: \\n\", o3)"
      ],
      "metadata": {
        "colab": {
          "base_uri": "https://localhost:8080/",
          "height": 0
        },
        "id": "AZthQ9HuMY96",
        "outputId": "2535d313-6528-4801-da27-3540477ed956"
      },
      "execution_count": 23,
      "outputs": [
        {
          "output_type": "stream",
          "name": "stdout",
          "text": [
            "Video1_output: \n",
            " [[0, 50], [51, 92], [93, 123], [124, 192], [193, 222], [223, 261], [262, 300], [301, 316], [317, 339], [340, 391], [392, 412], [413, 429], [430, 454], [455, 514], [515, 552], [553, 596], [597, 603], [604, 611], [612, 635], [636, 659], [660, 686], [687, 711], [712, 735], [736, 762], [763, 763], [764, 791], [792, 805], [806, 825], [826, 845], [846, 870], [871, 886], [887, 912]]\n",
            "Video2_output: \n",
            " [[0, 51], [52, 77], [78, 109], [110, 149], [150, 211], [212, 250], [251, 278], [279, 296], [297, 328], [329, 360], [361, 391], [392, 418], [419, 482], [483, 485], [486, 513], [514, 525], [526, 541], [542, 566], [567, 585], [586, 615], [616, 641], [642, 693], [694, 728], [729, 757], [758, 776]]\n",
            "Video2_output: \n",
            " [[0, 4], [5, 45], [46, 80], [81, 156], [157, 191], [192, 233], [234, 274], [275, 315], [316, 345], [346, 492], [493, 522], [523, 586]]\n"
          ]
        }
      ]
    },
    {
      "cell_type": "code",
      "source": [
        "t1 = [[0, 50], [51, 92], [93, 123], [124, 192], [193, 222], [223,261], [262, 300], [301, 316], [317, 339],\n",
        "    [340, 391], [392, 412], [413, 429], [430, 454], [455, 456], [457, 514], [515, 552], [553, 596],\n",
        "    [597, 611], [612, 635], [636,659], [660, 686], [687, 711], [712, 735], [736, 763], [764,791],\n",
        "    [792, 805], [806, 825], [826, 845], [846, 870], [871, 886], [887, 912]]\n",
        "t2 = [[0, 51], [52, 77], [78, 109], [110, 149], [150, 211], [212, 250], [251, 278], [279, 296],\n",
        "    [297, 328], [329, 360], [361, 391], [392, 418], [419, 482], [483, 513], [514, 525],\n",
        "    [526, 541], [542, 566], [567, 585], [586, 615], [616, 641], [642, 693], [694, 728],\n",
        "    [729, 757], [578, 776]]\n",
        "t3 = [[0, 4], [5, 45], [46, 80], [81, 156], [157, 191], [192, 233], [234, 274], [275, 315],\n",
        "    [316, 345], [346, 381], [382, 424], [425, 469], [470, 492], [493, 522], [523, 586]]"
      ],
      "metadata": {
        "id": "bsqM_jlQLqyD"
      },
      "execution_count": 25,
      "outputs": []
    },
    {
      "cell_type": "code",
      "source": [
        "Movie1_accuracy = accu(o1, t1)\n",
        "Movie2_accuracy = accu(o2, t2)\n",
        "Movie3_accuracy = accu(o3, t3)"
      ],
      "metadata": {
        "id": "m75CEO9rNZKP"
      },
      "execution_count": 26,
      "outputs": []
    },
    {
      "cell_type": "code",
      "source": [
        "print(\"The num of correct, miss, false of Movie1: \\n\", Movie1_accuracy)\n",
        "print(\"The num of correct, miss, false of Movie2: \\n\", Movie2_accuracy)\n",
        "print(\"The num of correct, miss, false of Movie3: \\n\", Movie3_accuracy)"
      ],
      "metadata": {
        "colab": {
          "base_uri": "https://localhost:8080/",
          "height": 0
        },
        "id": "8ogdCeiROwdf",
        "outputId": "5e255e36-a675-4762-c881-994a05374a7e"
      },
      "execution_count": 28,
      "outputs": [
        {
          "output_type": "stream",
          "name": "stdout",
          "text": [
            "The num of correct, miss, false of Movie1: \n",
            " (29, 1, 2)\n",
            "The num of correct, miss, false of Movie2: \n",
            " (22, 1, 2)\n",
            "The num of correct, miss, false of Movie3: \n",
            " (11, 3, 0)\n"
          ]
        }
      ]
    }
  ]
}